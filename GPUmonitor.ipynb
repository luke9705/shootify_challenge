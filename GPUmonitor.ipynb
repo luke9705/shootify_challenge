{
 "cells": [
  {
   "cell_type": "code",
   "execution_count": 1,
   "id": "bc2f77c5-1682-48f5-90d5-86079d3e3b53",
   "metadata": {},
   "outputs": [
    {
     "name": "stdout",
     "output_type": "stream",
     "text": [
      "Collecting nvidia-ml-py3\n",
      "  Downloading nvidia-ml-py3-7.352.0.tar.gz (19 kB)\n",
      "  Preparing metadata (setup.py) ... \u001b[?25ldone\n",
      "\u001b[?25hBuilding wheels for collected packages: nvidia-ml-py3\n",
      "\u001b[33m  DEPRECATION: Building 'nvidia-ml-py3' using the legacy setup.py bdist_wheel mechanism, which will be removed in a future version. pip 25.3 will enforce this behaviour change. A possible replacement is to use the standardized build interface by setting the `--use-pep517` option, (possibly combined with `--no-build-isolation`), or adding a `pyproject.toml` file to the source tree of 'nvidia-ml-py3'. Discussion can be found at https://github.com/pypa/pip/issues/6334\u001b[0m\u001b[33m\n",
      "\u001b[0m  Building wheel for nvidia-ml-py3 (setup.py) ... \u001b[?25ldone\n",
      "\u001b[?25h  Created wheel for nvidia-ml-py3: filename=nvidia_ml_py3-7.352.0-py3-none-any.whl size=19207 sha256=5105e89b53eb57bf6a8b0acb9d4c94e979c565edfd2906be6a1fdf16d4808d01\n",
      "  Stored in directory: /root/.cache/pip/wheels/47/50/9e/29dc79037d74c3c1bb4a8661fb608e8674b7e4260d6a3f8f51\n",
      "Successfully built nvidia-ml-py3\n",
      "Installing collected packages: nvidia-ml-py3\n",
      "Successfully installed nvidia-ml-py3-7.352.0\n",
      "\u001b[33mWARNING: Running pip as the 'root' user can result in broken permissions and conflicting behaviour with the system package manager, possibly rendering your system unusable. It is recommended to use a virtual environment instead: https://pip.pypa.io/warnings/venv. Use the --root-user-action option if you know what you are doing and want to suppress this warning.\u001b[0m\u001b[33m\n",
      "\u001b[0m"
     ]
    }
   ],
   "source": [
    "!pip install nvidia-ml-py3"
   ]
  },
  {
   "cell_type": "code",
   "execution_count": null,
   "id": "d72fa35f-1f64-4b87-96c0-622b21610f77",
   "metadata": {},
   "outputs": [
    {
     "name": "stdout",
     "output_type": "stream",
     "text": [
      "GPU Resource Monitoring (Updated Every Second):\n",
      "--------------------------------------------------\n",
      "GPU 0: NVIDIA RTX 6000 Ada Generation\n",
      "  Utilization: 0%\n",
      "  Memory: 580.44 MB / 46068.00 MB\n",
      "  Temperature: 33°C\n",
      "  Power Usage: 23.94 W\n",
      "--------------------------------------------------\n"
     ]
    }
   ],
   "source": [
    "import time\n",
    "import pynvml\n",
    "from IPython.display import clear_output, display\n",
    "\n",
    "# Initialize NVML\n",
    "pynvml.nvmlInit()\n",
    "num_gpus = pynvml.nvmlDeviceGetCount()\n",
    "\n",
    "try:\n",
    "    while True:  # Infinite loop for real-time monitoring\n",
    "        clear_output(wait=True)  # Clear the Jupyter cell output\n",
    "        print(\"GPU Resource Monitoring (Updated Every Second):\")\n",
    "        print(\"-\" * 50)\n",
    "\n",
    "        for i in range(num_gpus):\n",
    "            handle = pynvml.nvmlDeviceGetHandleByIndex(i)\n",
    "            gpu_name = pynvml.nvmlDeviceGetName(handle).decode(\"utf-8\")\n",
    "            gpu_util = pynvml.nvmlDeviceGetUtilizationRates(handle).gpu\n",
    "            mem_info = pynvml.nvmlDeviceGetMemoryInfo(handle)\n",
    "            mem_used = mem_info.used / 1024**2  # Convert bytes to MB\n",
    "            mem_total = mem_info.total / 1024**2  # Convert bytes to MB\n",
    "            temp = pynvml.nvmlDeviceGetTemperature(handle, pynvml.NVML_TEMPERATURE_GPU)\n",
    "            power = pynvml.nvmlDeviceGetPowerUsage(handle) / 1000  # Convert milliwatts to watts\n",
    "\n",
    "            print(f\"GPU {i}: {gpu_name}\")\n",
    "            print(f\"  Utilization: {gpu_util}%\")\n",
    "            print(f\"  Memory: {mem_used:.2f} MB / {mem_total:.2f} MB\")\n",
    "            print(f\"  Temperature: {temp}°C\")\n",
    "            print(f\"  Power Usage: {power:.2f} W\")\n",
    "            print(\"-\" * 50)\n",
    "\n",
    "        time.sleep(1)  # Wait for 1 second before refreshing\n",
    "\n",
    "finally:\n",
    "    # Cleanup NVML\n",
    "    pynvml.nvmlShutdown()\n"
   ]
  },
  {
   "cell_type": "code",
   "execution_count": null,
   "id": "ad5a9b21-af2f-4af2-8ef6-bb1e14f14f18",
   "metadata": {},
   "outputs": [],
   "source": []
  }
 ],
 "metadata": {
  "kernelspec": {
   "display_name": "Python 3 (ipykernel)",
   "language": "python",
   "name": "python3"
  },
  "language_info": {
   "codemirror_mode": {
    "name": "ipython",
    "version": 3
   },
   "file_extension": ".py",
   "mimetype": "text/x-python",
   "name": "python",
   "nbconvert_exporter": "python",
   "pygments_lexer": "ipython3",
   "version": "3.11.13"
  }
 },
 "nbformat": 4,
 "nbformat_minor": 5
}
